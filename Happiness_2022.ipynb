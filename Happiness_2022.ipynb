{
 "cells": [
  {
   "cell_type": "code",
   "execution_count": 1,
   "id": "188d67e0",
   "metadata": {},
   "outputs": [],
   "source": [
    "#Dependencies and Setup\n",
    "import pandas as pd\n",
    "import numpy as np\n",
    "import matplotlib.pyplot as plt"
   ]
  },
  {
   "cell_type": "code",
   "execution_count": 2,
   "id": "614e5ced",
   "metadata": {},
   "outputs": [],
   "source": [
    "happy_results = pd.read_csv('Resources/Data_2022.csv')"
   ]
  },
  {
   "cell_type": "code",
   "execution_count": 3,
   "id": "9fcb8e1c",
   "metadata": {},
   "outputs": [
    {
     "data": {
      "text/html": [
       "<div>\n",
       "<style scoped>\n",
       "    .dataframe tbody tr th:only-of-type {\n",
       "        vertical-align: middle;\n",
       "    }\n",
       "\n",
       "    .dataframe tbody tr th {\n",
       "        vertical-align: top;\n",
       "    }\n",
       "\n",
       "    .dataframe thead th {\n",
       "        text-align: right;\n",
       "    }\n",
       "</style>\n",
       "<table border=\"1\" class=\"dataframe\">\n",
       "  <thead>\n",
       "    <tr style=\"text-align: right;\">\n",
       "      <th></th>\n",
       "      <th>Country name</th>\n",
       "      <th>year</th>\n",
       "      <th>Life Ladder</th>\n",
       "      <th>Log GDP per capita</th>\n",
       "      <th>Social support</th>\n",
       "      <th>Healthy life expectancy at birth</th>\n",
       "      <th>Freedom to make life choices</th>\n",
       "      <th>Generosity</th>\n",
       "      <th>Perceptions of corruption</th>\n",
       "      <th>Positive affect</th>\n",
       "      <th>Negative affect</th>\n",
       "    </tr>\n",
       "  </thead>\n",
       "  <tbody>\n",
       "    <tr>\n",
       "      <th>0</th>\n",
       "      <td>Afghanistan</td>\n",
       "      <td>2008</td>\n",
       "      <td>3.724</td>\n",
       "      <td>7.350</td>\n",
       "      <td>0.451</td>\n",
       "      <td>50.5</td>\n",
       "      <td>0.718</td>\n",
       "      <td>0.168</td>\n",
       "      <td>0.882</td>\n",
       "      <td>0.414</td>\n",
       "      <td>0.258</td>\n",
       "    </tr>\n",
       "    <tr>\n",
       "      <th>1</th>\n",
       "      <td>Afghanistan</td>\n",
       "      <td>2009</td>\n",
       "      <td>4.402</td>\n",
       "      <td>7.509</td>\n",
       "      <td>0.552</td>\n",
       "      <td>50.8</td>\n",
       "      <td>0.679</td>\n",
       "      <td>0.191</td>\n",
       "      <td>0.850</td>\n",
       "      <td>0.481</td>\n",
       "      <td>0.237</td>\n",
       "    </tr>\n",
       "    <tr>\n",
       "      <th>2</th>\n",
       "      <td>Afghanistan</td>\n",
       "      <td>2010</td>\n",
       "      <td>4.758</td>\n",
       "      <td>7.614</td>\n",
       "      <td>0.539</td>\n",
       "      <td>51.1</td>\n",
       "      <td>0.600</td>\n",
       "      <td>0.121</td>\n",
       "      <td>0.707</td>\n",
       "      <td>0.517</td>\n",
       "      <td>0.275</td>\n",
       "    </tr>\n",
       "    <tr>\n",
       "      <th>3</th>\n",
       "      <td>Afghanistan</td>\n",
       "      <td>2011</td>\n",
       "      <td>3.832</td>\n",
       "      <td>7.581</td>\n",
       "      <td>0.521</td>\n",
       "      <td>51.4</td>\n",
       "      <td>0.496</td>\n",
       "      <td>0.164</td>\n",
       "      <td>0.731</td>\n",
       "      <td>0.480</td>\n",
       "      <td>0.267</td>\n",
       "    </tr>\n",
       "    <tr>\n",
       "      <th>4</th>\n",
       "      <td>Afghanistan</td>\n",
       "      <td>2012</td>\n",
       "      <td>3.783</td>\n",
       "      <td>7.661</td>\n",
       "      <td>0.521</td>\n",
       "      <td>51.7</td>\n",
       "      <td>0.531</td>\n",
       "      <td>0.238</td>\n",
       "      <td>0.776</td>\n",
       "      <td>0.614</td>\n",
       "      <td>0.268</td>\n",
       "    </tr>\n",
       "  </tbody>\n",
       "</table>\n",
       "</div>"
      ],
      "text/plain": [
       "  Country name  year  Life Ladder  Log GDP per capita  Social support  \\\n",
       "0  Afghanistan  2008        3.724               7.350           0.451   \n",
       "1  Afghanistan  2009        4.402               7.509           0.552   \n",
       "2  Afghanistan  2010        4.758               7.614           0.539   \n",
       "3  Afghanistan  2011        3.832               7.581           0.521   \n",
       "4  Afghanistan  2012        3.783               7.661           0.521   \n",
       "\n",
       "   Healthy life expectancy at birth  Freedom to make life choices  Generosity  \\\n",
       "0                              50.5                         0.718       0.168   \n",
       "1                              50.8                         0.679       0.191   \n",
       "2                              51.1                         0.600       0.121   \n",
       "3                              51.4                         0.496       0.164   \n",
       "4                              51.7                         0.531       0.238   \n",
       "\n",
       "   Perceptions of corruption  Positive affect  Negative affect  \n",
       "0                      0.882            0.414            0.258  \n",
       "1                      0.850            0.481            0.237  \n",
       "2                      0.707            0.517            0.275  \n",
       "3                      0.731            0.480            0.267  \n",
       "4                      0.776            0.614            0.268  "
      ]
     },
     "execution_count": 3,
     "metadata": {},
     "output_type": "execute_result"
    }
   ],
   "source": [
    "happy_results.head()"
   ]
  },
  {
   "cell_type": "code",
   "execution_count": 4,
   "id": "1e5a207b",
   "metadata": {},
   "outputs": [
    {
     "name": "stdout",
     "output_type": "stream",
     "text": [
      "   Country name  year  Life Ladder  Log GDP per capita  Social support  \\\n",
      "11  Afghanistan  2019        2.375               7.640           0.420   \n",
      "12  Afghanistan  2021        2.436               7.324           0.454   \n",
      "25      Albania  2019        4.995               9.522           0.686   \n",
      "26      Albania  2020        5.365               9.492           0.710   \n",
      "27      Albania  2021        5.255               9.583           0.702   \n",
      "\n",
      "    Healthy life expectancy at birth  Freedom to make life choices  \\\n",
      "11                            53.900                         0.394   \n",
      "12                            54.550                         0.394   \n",
      "25                            69.100                         0.777   \n",
      "26                            69.125                         0.754   \n",
      "27                            69.150                         0.827   \n",
      "\n",
      "    Generosity  Perceptions of corruption  Positive affect  Negative affect  \n",
      "11      -0.106                      0.924            0.324            0.502  \n",
      "12      -0.081                      0.946            0.179            0.607  \n",
      "25      -0.101                      0.914            0.548            0.274  \n",
      "26       0.004                      0.891            0.563            0.265  \n",
      "27       0.041                      0.896            0.554            0.254  \n"
     ]
    }
   ],
   "source": [
    "#Clean the datafram and eliminate all years prior to 2019\n",
    "clean_file_df = happy_results.loc[(happy_results[\"year\"] >= 2019), :].dropna()\n",
    "print(clean_file_df.head())"
   ]
  },
  {
   "cell_type": "code",
   "execution_count": 5,
   "id": "1d8b3446",
   "metadata": {},
   "outputs": [
    {
     "name": "stdout",
     "output_type": "stream",
     "text": [
      "452\n"
     ]
    }
   ],
   "source": [
    "print(clean_file_df.shape[0])"
   ]
  },
  {
   "cell_type": "code",
   "execution_count": 6,
   "id": "76e2bdf8",
   "metadata": {},
   "outputs": [
    {
     "name": "stdout",
     "output_type": "stream",
     "text": [
      "   Country name  year  Life Ladder  Social support  \\\n",
      "11  Afghanistan  2019        2.375           0.420   \n",
      "12  Afghanistan  2021        2.436           0.454   \n",
      "25      Albania  2019        4.995           0.686   \n",
      "26      Albania  2020        5.365           0.710   \n",
      "27      Albania  2021        5.255           0.702   \n",
      "\n",
      "    Healthy life expectancy at birth  Perceptions of corruption  \n",
      "11                            53.900                      0.924  \n",
      "12                            54.550                      0.946  \n",
      "25                            69.100                      0.914  \n",
      "26                            69.125                      0.891  \n",
      "27                            69.150                      0.896  \n"
     ]
    }
   ],
   "source": [
    "#Clean dataframe and drop unnecessary columns\n",
    "new_df = clean_file_df.drop(columns=['Log GDP per capita', 'Freedom to make life choices', 'Generosity', 'Positive affect', 'Negative affect'])\n",
    "print(new_df.head())"
   ]
  },
  {
   "cell_type": "code",
   "execution_count": 7,
   "id": "f7676e80",
   "metadata": {},
   "outputs": [
    {
     "data": {
      "text/html": [
       "<div>\n",
       "<style scoped>\n",
       "    .dataframe tbody tr th:only-of-type {\n",
       "        vertical-align: middle;\n",
       "    }\n",
       "\n",
       "    .dataframe tbody tr th {\n",
       "        vertical-align: top;\n",
       "    }\n",
       "\n",
       "    .dataframe thead th {\n",
       "        text-align: right;\n",
       "    }\n",
       "</style>\n",
       "<table border=\"1\" class=\"dataframe\">\n",
       "  <thead>\n",
       "    <tr style=\"text-align: right;\">\n",
       "      <th></th>\n",
       "      <th>Country name</th>\n",
       "      <th>year</th>\n",
       "      <th>Life Ladder</th>\n",
       "      <th>Social support</th>\n",
       "      <th>Healthy life expectancy at birth</th>\n",
       "      <th>Perceptions of corruption</th>\n",
       "    </tr>\n",
       "  </thead>\n",
       "  <tbody>\n",
       "    <tr>\n",
       "      <th>0</th>\n",
       "      <td>Afghanistan</td>\n",
       "      <td>2019</td>\n",
       "      <td>2.375</td>\n",
       "      <td>0.420</td>\n",
       "      <td>53.900</td>\n",
       "      <td>0.924</td>\n",
       "    </tr>\n",
       "    <tr>\n",
       "      <th>1</th>\n",
       "      <td>Afghanistan</td>\n",
       "      <td>2021</td>\n",
       "      <td>2.436</td>\n",
       "      <td>0.454</td>\n",
       "      <td>54.550</td>\n",
       "      <td>0.946</td>\n",
       "    </tr>\n",
       "    <tr>\n",
       "      <th>2</th>\n",
       "      <td>Albania</td>\n",
       "      <td>2019</td>\n",
       "      <td>4.995</td>\n",
       "      <td>0.686</td>\n",
       "      <td>69.100</td>\n",
       "      <td>0.914</td>\n",
       "    </tr>\n",
       "    <tr>\n",
       "      <th>3</th>\n",
       "      <td>Albania</td>\n",
       "      <td>2020</td>\n",
       "      <td>5.365</td>\n",
       "      <td>0.710</td>\n",
       "      <td>69.125</td>\n",
       "      <td>0.891</td>\n",
       "    </tr>\n",
       "    <tr>\n",
       "      <th>4</th>\n",
       "      <td>Albania</td>\n",
       "      <td>2021</td>\n",
       "      <td>5.255</td>\n",
       "      <td>0.702</td>\n",
       "      <td>69.150</td>\n",
       "      <td>0.896</td>\n",
       "    </tr>\n",
       "    <tr>\n",
       "      <th>...</th>\n",
       "      <td>...</td>\n",
       "      <td>...</td>\n",
       "      <td>...</td>\n",
       "      <td>...</td>\n",
       "      <td>...</td>\n",
       "      <td>...</td>\n",
       "    </tr>\n",
       "    <tr>\n",
       "      <th>447</th>\n",
       "      <td>Zambia</td>\n",
       "      <td>2021</td>\n",
       "      <td>3.082</td>\n",
       "      <td>0.619</td>\n",
       "      <td>55.250</td>\n",
       "      <td>0.824</td>\n",
       "    </tr>\n",
       "    <tr>\n",
       "      <th>448</th>\n",
       "      <td>Zimbabwe</td>\n",
       "      <td>2019</td>\n",
       "      <td>2.694</td>\n",
       "      <td>0.759</td>\n",
       "      <td>53.100</td>\n",
       "      <td>0.831</td>\n",
       "    </tr>\n",
       "    <tr>\n",
       "      <th>449</th>\n",
       "      <td>Zimbabwe</td>\n",
       "      <td>2020</td>\n",
       "      <td>3.160</td>\n",
       "      <td>0.717</td>\n",
       "      <td>53.575</td>\n",
       "      <td>0.789</td>\n",
       "    </tr>\n",
       "    <tr>\n",
       "      <th>450</th>\n",
       "      <td>Zimbabwe</td>\n",
       "      <td>2021</td>\n",
       "      <td>3.155</td>\n",
       "      <td>0.685</td>\n",
       "      <td>54.050</td>\n",
       "      <td>0.757</td>\n",
       "    </tr>\n",
       "    <tr>\n",
       "      <th>451</th>\n",
       "      <td>Zimbabwe</td>\n",
       "      <td>2022</td>\n",
       "      <td>3.296</td>\n",
       "      <td>0.666</td>\n",
       "      <td>54.525</td>\n",
       "      <td>0.753</td>\n",
       "    </tr>\n",
       "  </tbody>\n",
       "</table>\n",
       "<p>452 rows × 6 columns</p>\n",
       "</div>"
      ],
      "text/plain": [
       "    Country name  year  Life Ladder  Social support  \\\n",
       "0    Afghanistan  2019        2.375           0.420   \n",
       "1    Afghanistan  2021        2.436           0.454   \n",
       "2        Albania  2019        4.995           0.686   \n",
       "3        Albania  2020        5.365           0.710   \n",
       "4        Albania  2021        5.255           0.702   \n",
       "..           ...   ...          ...             ...   \n",
       "447       Zambia  2021        3.082           0.619   \n",
       "448     Zimbabwe  2019        2.694           0.759   \n",
       "449     Zimbabwe  2020        3.160           0.717   \n",
       "450     Zimbabwe  2021        3.155           0.685   \n",
       "451     Zimbabwe  2022        3.296           0.666   \n",
       "\n",
       "     Healthy life expectancy at birth  Perceptions of corruption  \n",
       "0                              53.900                      0.924  \n",
       "1                              54.550                      0.946  \n",
       "2                              69.100                      0.914  \n",
       "3                              69.125                      0.891  \n",
       "4                              69.150                      0.896  \n",
       "..                                ...                        ...  \n",
       "447                            55.250                      0.824  \n",
       "448                            53.100                      0.831  \n",
       "449                            53.575                      0.789  \n",
       "450                            54.050                      0.757  \n",
       "451                            54.525                      0.753  \n",
       "\n",
       "[452 rows x 6 columns]"
      ]
     },
     "execution_count": 7,
     "metadata": {},
     "output_type": "execute_result"
    }
   ],
   "source": [
    "new_df.reset_index(drop=True)"
   ]
  },
  {
   "cell_type": "code",
   "execution_count": 8,
   "id": "2d38d7f3",
   "metadata": {},
   "outputs": [
    {
     "name": "stdout",
     "output_type": "stream",
     "text": [
      "     Country name  year  Life Ladder  Social support  \\\n",
      "11    Afghanistan  2019        2.375           0.420   \n",
      "2195     Zimbabwe  2019        2.694           0.759   \n",
      "844         India  2019        3.249           0.561   \n",
      "1647       Rwanda  2019        3.268           0.489   \n",
      "2179       Zambia  2019        3.307           0.638   \n",
      "\n",
      "      Healthy life expectancy at birth  Perceptions of corruption  \n",
      "11                                53.9                      0.924  \n",
      "2195                              53.1                      0.831  \n",
      "844                               60.3                      0.752  \n",
      "1647                              60.2                      0.168  \n",
      "2179                              54.4                      0.832  \n"
     ]
    }
   ],
   "source": [
    "#Sort test 1 - part 1\n",
    "sorted_df = new_df.sort_values(['year', 'Life Ladder'], ascending=(True, True))\n",
    "print(sorted_df.head())"
   ]
  },
  {
   "cell_type": "code",
   "execution_count": 9,
   "id": "bef49eef",
   "metadata": {},
   "outputs": [
    {
     "name": "stdout",
     "output_type": "stream",
     "text": [
      "     Country name  year  Life Ladder  Social support  \\\n",
      "634       Finland  2019        7.780           0.937   \n",
      "1874  Switzerland  2019        7.694           0.949   \n",
      "518       Denmark  2019        7.693           0.958   \n",
      "1481       Norway  2019        7.442           0.942   \n",
      "1392  Netherlands  2019        7.425           0.941   \n",
      "\n",
      "      Healthy life expectancy at birth  Perceptions of corruption  \n",
      "634                               71.0                      0.195  \n",
      "1874                              72.5                      0.294  \n",
      "518                               71.0                      0.174  \n",
      "1481                              71.4                      0.271  \n",
      "1392                              71.4                      0.360  \n"
     ]
    }
   ],
   "source": [
    "#Sort test 1 - part 2\n",
    "sorted_df = new_df.sort_values(['year', 'Life Ladder'], ascending=(True, False))\n",
    "print(sorted_df.head())"
   ]
  },
  {
   "cell_type": "code",
   "execution_count": 10,
   "id": "ff9c6fbf",
   "metadata": {},
   "outputs": [
    {
     "name": "stdout",
     "output_type": "stream",
     "text": [
      "     Country name  year  Life Ladder  Social support  \\\n",
      "11    Afghanistan  2019        2.375           0.420   \n",
      "2195     Zimbabwe  2019        2.694           0.759   \n",
      "844         India  2019        3.249           0.561   \n",
      "1647       Rwanda  2019        3.268           0.489   \n",
      "2179       Zambia  2019        3.307           0.638   \n",
      "\n",
      "      Healthy life expectancy at birth  Perceptions of corruption  \n",
      "11                                53.9                      0.924  \n",
      "2195                              53.1                      0.831  \n",
      "844                               60.3                      0.752  \n",
      "1647                              60.2                      0.168  \n",
      "2179                              54.4                      0.832  \n"
     ]
    }
   ],
   "source": [
    "#Sort test 2 - part 1\n",
    "sorted_df = new_df.sort_values(['year', 'Life Ladder'])\n",
    "print(sorted_df.head())\n"
   ]
  },
  {
   "cell_type": "code",
   "execution_count": 11,
   "id": "fd82d278",
   "metadata": {},
   "outputs": [
    {
     "name": "stdout",
     "output_type": "stream",
     "text": [
      "     Country name  year  Life Ladder  Social support  \\\n",
      "637       Finland  2022        7.729           0.974   \n",
      "925        Israel  2022        7.662           0.954   \n",
      "521       Denmark  2022        7.545           0.970   \n",
      "830       Iceland  2022        7.449           0.985   \n",
      "1865       Sweden  2022        7.431           0.949   \n",
      "\n",
      "      Healthy life expectancy at birth  Perceptions of corruption  \n",
      "637                             71.225                      0.190  \n",
      "925                             72.850                      0.655  \n",
      "521                             71.375                      0.203  \n",
      "830                             72.075                      0.692  \n",
      "1865                            72.275                      0.213  \n"
     ]
    }
   ],
   "source": [
    "#Sort test 2 - part 2\n",
    "sorted_df = new_df.sort_values(['year', 'Life Ladder'], ascending=False)\n",
    "print(sorted_df.head())\n"
   ]
  },
  {
   "cell_type": "code",
   "execution_count": 12,
   "id": "f79dd657",
   "metadata": {},
   "outputs": [
    {
     "name": "stdout",
     "output_type": "stream",
     "text": [
      "Countries with the highest Ladder Scores:\n",
      "    Country name  year  Life Ladder\n",
      "635      Finland  2020        7.889\n",
      "636      Finland  2021        7.794\n",
      "634      Finland  2019        7.780\n",
      "637      Finland  2022        7.729\n",
      "520      Denmark  2021        7.699\n"
     ]
    }
   ],
   "source": [
    "#Sort test 3 - part 1\n",
    "sorted_df = new_df.sort_values('year')\n",
    "\n",
    "#Get the 5 countries with the highest Life Ladder scores in the selected rows.\n",
    "highest_life_ladder = sorted_df.nlargest(5, 'Life Ladder')\n",
    "print('Countries with the highest Ladder Scores:')\n",
    "print(highest_life_ladder[['Country name', 'year', 'Life Ladder',]])"
   ]
  },
  {
   "cell_type": "code",
   "execution_count": 13,
   "id": "8c8712da",
   "metadata": {},
   "outputs": [
    {
     "name": "stdout",
     "output_type": "stream",
     "text": [
      "Countries with the lowest Ladder Scores:\n",
      "      Country name  year  Life Ladder\n",
      "1116       Lebanon  2021        2.179\n",
      "1117       Lebanon  2022        2.352\n",
      "11     Afghanistan  2019        2.375\n",
      "12     Afghanistan  2021        2.436\n",
      "1709  Sierra Leone  2022        2.560\n"
     ]
    }
   ],
   "source": [
    "#Sort test 3 - part 2\n",
    "#Get the 5 countries with the highest Life Ladder scores in the selected\n",
    "lowest_life_ladder = sorted_df.nsmallest(5, 'Life Ladder')\n",
    "print('Countries with the lowest Ladder Scores:')\n",
    "print(lowest_life_ladder[['Country name', 'year', 'Life Ladder']])"
   ]
  },
  {
   "cell_type": "code",
   "execution_count": 14,
   "id": "106d05fa",
   "metadata": {},
   "outputs": [
    {
     "data": {
      "image/png": "[encoded data removed]",
      "text/plain": [
       "<Figure size 640x480 with 1 Axes>"
      ]
     },
     "metadata": {},
     "output_type": "display_data"
    }
   ],
   "source": [
    "# Calculate the average Happiness Score for each year\n",
    "yearly_means = highest_life_ladder.groupby('year')['Life Ladder'].mean()\n",
    "\n",
    "# Create a line plot of the yearly means\n",
    "plt.plot(yearly_means.index, yearly_means.values)\n",
    "plt.xlabel('Year')\n",
    "plt.ylabel('Average Happiness Score')\n",
    "plt.title('Average Happiness Score from 2019 to 2022')\n",
    "plt.show()\n"
   ]
  },
  {
   "cell_type": "code",
   "execution_count": 15,
   "id": "935a7cc3",
   "metadata": {},
   "outputs": [
    {
     "data": {
      "image/png": "[encoded data removed]",
      "text/plain": [
       "<Figure size 640x480 with 1 Axes>"
      ]
     },
     "metadata": {},
     "output_type": "display_data"
    }
   ],
   "source": [
    "#Line plot of happiness socres over time - US only\n",
    "sorted_df= sorted_df.loc[sorted_df['Country name'] == 'United States']\n",
    "\n",
    "# create a line plot of happiness scores over time\n",
    "plt.plot(sorted_df['year'], sorted_df['Life Ladder'])\n",
    "\n",
    "# add axis labels and a title\n",
    "plt.xlabel('Year')\n",
    "plt.ylabel('Happiness Score')\n",
    "plt.title('Happiness Scores for United States over Time')\n",
    "\n",
    "# display the plot\n",
    "plt.show()"
   ]
  },
  {
   "cell_type": "code",
   "execution_count": 16,
   "id": "686d0096",
   "metadata": {},
   "outputs": [
    {
     "data": {
      "image/png": "[encoded data removed]",
      "text/plain": [
       "<Figure size 640x480 with 1 Axes>"
      ]
     },
     "metadata": {},
     "output_type": "display_data"
    }
   ],
   "source": [
    "#Bar chart of top 5 happiest countries\n",
    "# select data for most recent year\n",
    "figure1 = highest_life_ladder.loc[highest_life_ladder['year'] == 2022]\n",
    "\n",
    "# sort data by happiness score\n",
    "figure1 = highest_life_ladder.sort_values(by=['Life Ladder'], ascending=False)\n",
    "\n",
    "# select top 5 happiest countries\n",
    "figure1 = highest_life_ladder.head(5)\n",
    "\n",
    "# create a bar chart of the top 10 happiest countries\n",
    "plt.bar(highest_life_ladder['Country name'], highest_life_ladder['Life Ladder'])\n",
    "\n",
    "# add axis labels and a title\n",
    "plt.xlabel('Country')\n",
    "plt.ylabel('Happiness Score')\n",
    "plt.title('Top 5 Happiest Countries for 2022')\n",
    "\n",
    "# rotate x-axis labels for readability\n",
    "plt.xticks(rotation=90)\n",
    "\n",
    "# display the plot\n",
    "plt.show()"
   ]
  },
  {
   "cell_type": "code",
   "execution_count": 17,
   "id": "60e05224",
   "metadata": {},
   "outputs": [
    {
     "data": {
      "image/png": "[encoded data removed]",
      "text/plain": [
       "<Figure size 640x480 with 1 Axes>"
      ]
     },
     "metadata": {},
     "output_type": "display_data"
    }
   ],
   "source": [
    "#Scatter plot of happiness score vs. Social Support\n",
    "#select data for most recent year\n",
    "figure2 = sorted_df.loc[sorted_df['year'] == 2022]\n",
    "\n",
    "# create a scatter plot of happiness score vs.Social Support\n",
    "plt.scatter(sorted_df['Social support'], sorted_df['Life Ladder'])\n",
    "\n",
    "# add axis labels and a title\n",
    "plt.xlabel('Social Support')\n",
    "plt.ylabel('Happiness Score')\n",
    "plt.title('Happiness Score vs. Social support')\n",
    "\n",
    "# display the plot\n",
    "plt.show()"
   ]
  },
  {
   "cell_type": "code",
   "execution_count": null,
   "id": "c7339512",
   "metadata": {},
   "outputs": [],
   "source": []
  }
 ],
 "metadata": {
  "kernelspec": {
   "display_name": "Python 3 (ipykernel)",
   "language": "python",
   "name": "python3"
  },
  "language_info": {
   "codemirror_mode": {
    "name": "ipython",
    "version": 3
   },
   "file_extension": ".py",
   "mimetype": "text/x-python",
   "name": "python",
   "nbconvert_exporter": "python",
   "pygments_lexer": "ipython3",
   "version": "3.10.10"
  }
 },
 "nbformat": 4,
 "nbformat_minor": 5
}
